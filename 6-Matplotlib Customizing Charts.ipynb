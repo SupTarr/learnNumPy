{
 "cells": [
  {
   "cell_type": "markdown",
   "metadata": {},
   "source": [
    "# Matplotlib - Customizing Charts\n",
    "\n",
    "## 1. Dynamic Charts\n",
    "\n",
    "---\n",
    "\n",
    "### Import Packages"
   ]
  },
  {
   "cell_type": "code",
   "execution_count": 1,
   "metadata": {},
   "outputs": [],
   "source": [
    "import numpy as np\n",
    "from numpy.random import default_rng\n",
    "import matplotlib.pyplot as plt\n",
    "\n",
    "%matplotlib inline"
   ]
  },
  {
   "cell_type": "markdown",
   "metadata": {},
   "source": [
    "### 1.1 `roll_dice()` function"
   ]
  },
  {
   "cell_type": "code",
   "execution_count": 2,
   "metadata": {},
   "outputs": [],
   "source": [
    "# Simulate rolling dice\n",
    "\n",
    "def roll_dice(num_dices, size):\n",
    "    rng = np.random.default_rng()\n",
    "    \n",
    "    # Roll the dice\n",
    "    faces = rng.integers(low = 1, high = 6, endpoint = True, size = (size, num_dices))\n",
    "    \n",
    "    # Sum face values\n",
    "    return np.sum(faces, axis = 1)"
   ]
  },
  {
   "cell_type": "markdown",
   "metadata": {},
   "source": [
    "### 1.2 Update chart dynamically"
   ]
  },
  {
   "cell_type": "code",
   "execution_count": 3,
   "metadata": {},
   "outputs": [
    {
     "data": {
      "image/png": "[encoded data removed]",
      "text/plain": [
       "<Figure size 640x480 with 1 Axes>"
      ]
     },
     "metadata": {},
     "output_type": "display_data"
    }
   ],
   "source": [
    "from IPython import display\n",
    "\n",
    "# Create empty zero-sized numpy array\n",
    "face_counts = np.array([], dtype = int)\n",
    "\n",
    "for i in range(0, 100):\n",
    "    # Roll 1 dice\n",
    "    dice_faces = roll_dice(1, 100)\n",
    "    \n",
    "    # Concatenate the new result to the previous results\n",
    "    face_counts = np.concatenate((face_counts, dice_faces), axis = 0)\n",
    "    \n",
    "    # Plot histogram of all results\n",
    "    hist = plt.hist(face_counts, bins = np.arange(1, 8) - 0.5, color = 'blue', rwidth = 0.8)\n",
    "    \n",
    "    # Set title and axis labels\n",
    "    plt.title('Roll Dice')\n",
    "    plt.xlabel('Dice Face')\n",
    "    plt.ylabel('Count (Frequency)')\n",
    "    \n",
    "    # Clear Jupyter display output\n",
    "    display.clear_output(wait = True)\n",
    "    \n",
    "    # Display the active figure\n",
    "    display.display(plt.gcf())\n",
    "    \n",
    "display.clear_output(wait = True)"
   ]
  },
  {
   "cell_type": "markdown",
   "metadata": {},
   "source": [
    "## 2. Load Data from Dataset File with NumPy\n",
    "\n",
    "---\n",
    "\n",
    "### 2.1 Load data from `mpg.csv` dataset file\n",
    "\n",
    "- This dataset can be downloaded at https://gist.github.com/omarish/5687264"
   ]
  },
  {
   "cell_type": "code",
   "execution_count": 4,
   "metadata": {},
   "outputs": [
    {
     "name": "stdout",
     "output_type": "stream",
     "text": [
      "shape: (398,) \n",
      "\n",
      "[(18., 8, 307., 130., 3504, 12. , 70, 'USA', 'chevrolet chevelle malibu')\n",
      " (15., 8, 350., 165., 3693, 11.5, 70, 'USA', 'buick skylark 320')\n",
      " (18., 8, 318., 150., 3436, 11. , 70, 'USA', 'plymouth satellite')\n",
      " (16., 8, 304., 150., 3433, 12. , 70, 'USA', 'amc rebel sst')\n",
      " (17., 8, 302., 140., 3449, 10.5, 70, 'USA', 'ford torino')\n",
      " (15., 8, 429., 198., 4341, 10. , 70, 'USA', 'ford galaxie 500')\n",
      " (14., 8, 454., 220., 4354,  9. , 70, 'USA', 'chevrolet impala')\n",
      " (14., 8, 440., 215., 4312,  8.5, 70, 'USA', 'plymouth fury iii')\n",
      " (14., 8, 455., 225., 4425, 10. , 70, 'USA', 'pontiac catalina')\n",
      " (15., 8, 390., 190., 3850,  8.5, 70, 'USA', 'amc ambassador dpl')]\n"
     ]
    }
   ],
   "source": [
    "mpg_ds = np.genfromtxt('mpg.csv', delimiter = ',', \n",
    "                       names = True, dtype = None, encoding = 'utf-8', \n",
    "                       converters = {3: lambda x: float(x.replace('?', '0')),\n",
    "                                    7: lambda x: x.replace('1', 'USA').replace('2', 'EU').replace('3', 'JP')})\n",
    "\n",
    "print('shape:', mpg_ds.shape, '\\n')\n",
    "print(mpg_ds[0:10])"
   ]
  },
  {
   "cell_type": "markdown",
   "metadata": {},
   "source": [
    "### 2.2 Remove records with `horsepower = 0`"
   ]
  },
  {
   "cell_type": "code",
   "execution_count": 5,
   "metadata": {},
   "outputs": [
    {
     "name": "stdout",
     "output_type": "stream",
     "text": [
      "shape: (392,) \n",
      "\n",
      "[(18., 8, 307., 130., 3504, 12. , 70, 'USA', 'chevrolet chevelle malibu')\n",
      " (15., 8, 350., 165., 3693, 11.5, 70, 'USA', 'buick skylark 320')\n",
      " (18., 8, 318., 150., 3436, 11. , 70, 'USA', 'plymouth satellite')\n",
      " (16., 8, 304., 150., 3433, 12. , 70, 'USA', 'amc rebel sst')\n",
      " (17., 8, 302., 140., 3449, 10.5, 70, 'USA', 'ford torino')\n",
      " (15., 8, 429., 198., 4341, 10. , 70, 'USA', 'ford galaxie 500')\n",
      " (14., 8, 454., 220., 4354,  9. , 70, 'USA', 'chevrolet impala')\n",
      " (14., 8, 440., 215., 4312,  8.5, 70, 'USA', 'plymouth fury iii')\n",
      " (14., 8, 455., 225., 4425, 10. , 70, 'USA', 'pontiac catalina')\n",
      " (15., 8, 390., 190., 3850,  8.5, 70, 'USA', 'amc ambassador dpl')]\n"
     ]
    }
   ],
   "source": [
    "mpg_ds = mpg_ds[mpg_ds['horsepower'] > 0]\n",
    "\n",
    "print('shape:', mpg_ds.shape, '\\n')\n",
    "print(mpg_ds[0:10])"
   ]
  },
  {
   "cell_type": "markdown",
   "metadata": {},
   "source": [
    "## 3. Plot Charts from mpg Dataset\n",
    "\n",
    "---\n",
    "\n",
    "### 3.1 Car model count by origin"
   ]
  },
  {
   "cell_type": "code",
   "execution_count": 6,
   "metadata": {},
   "outputs": [
    {
     "ename": "NameError",
     "evalue": "name 'count' is not defined",
     "output_type": "error",
     "traceback": [
      "\u001b[1;31m---------------------------------------------------------------------------\u001b[0m",
      "\u001b[1;31mNameError\u001b[0m                                 Traceback (most recent call last)",
      "Cell \u001b[1;32mIn[6], line 7\u001b[0m\n\u001b[0;32m      4\u001b[0m origins, counts \u001b[38;5;241m=\u001b[39m np\u001b[38;5;241m.\u001b[39munique(mpg_ds[\u001b[38;5;124m'\u001b[39m\u001b[38;5;124morigin\u001b[39m\u001b[38;5;124m'\u001b[39m], return_counts \u001b[38;5;241m=\u001b[39m \u001b[38;5;28;01mTrue\u001b[39;00m)\n\u001b[0;32m      6\u001b[0m \u001b[38;5;66;03m# Bar chart\u001b[39;00m\n\u001b[1;32m----> 7\u001b[0m bar_chart \u001b[38;5;241m=\u001b[39m bar_ax\u001b[38;5;241m.\u001b[39mbar(origins, \u001b[43mcount\u001b[49m, color \u001b[38;5;241m=\u001b[39m [\u001b[38;5;124m'\u001b[39m\u001b[38;5;124morange\u001b[39m\u001b[38;5;124m'\u001b[39m, \u001b[38;5;124m'\u001b[39m\u001b[38;5;124mlightblue\u001b[39m\u001b[38;5;124m'\u001b[39m, \u001b[38;5;124m'\u001b[39m\u001b[38;5;124mlightgreen\u001b[39m\u001b[38;5;124m'\u001b[39m])\n\u001b[0;32m      9\u001b[0m \u001b[38;5;66;03m# Customize chart attributes\u001b[39;00m\n\u001b[0;32m     10\u001b[0m bar_ax\u001b[38;5;241m.\u001b[39mset_title(\u001b[38;5;124m'\u001b[39m\u001b[38;5;124mCar Model Count by Origin\u001b[39m\u001b[38;5;124m'\u001b[39m)\n",
      "\u001b[1;31mNameError\u001b[0m: name 'count' is not defined"
     ]
    },
    {
     "data": {
      "image/png": "[encoded data removed]",
      "text/plain": [
       "<Figure size 1000x400 with 2 Axes>"
      ]
     },
     "metadata": {},
     "output_type": "display_data"
    }
   ],
   "source": [
    "fig, ax = plt.subplots(nrows = 1, ncols = 2, figsize = (10, 4))\n",
    "bar_ax, pie_ax = ax\n",
    "\n",
    "origins, counts = np.unique(mpg_ds['origin'], return_counts = True)\n",
    "\n",
    "# Bar chart\n",
    "bar_chart = bar_ax.bar(origins, count, color = ['orange', 'lightblue', 'lightgreen'])\n",
    "\n",
    "# Customize chart attributes\n",
    "bar_ax.set_title('Car Model Count by Origin')\n",
    "bar_ax.set_xlabel('Origin')\n",
    "bar_ax.set_ylabel('Count')\n",
    "\n",
    "# Customize to add annotation (data label)\n",
    "for x, y in np.stack((origins, counts), axis = 1):\n",
    "    y = int(y)\n",
    "    bar_ax.annotate(y, (x, y), ha = 'center', color = 'blue', xytext = (x, y - 15))\n",
    "    \n",
    "pie_chart = pie_ax.pie(counts, labels = origins, colors = ['orange', 'lightblue', 'lightgreen'],\n",
    "                      autopct = '%1.1f%%', shadow = True, explode = (0.2, 0, 0))\n",
    "pie_ax.set_title('Car Model Distribution by Origin')"
   ]
  },
  {
   "cell_type": "markdown",
   "metadata": {},
   "source": [
    "### 3.2 Exploratory Analysis of Car Models Attributes"
   ]
  },
  {
   "cell_type": "code",
   "execution_count": null,
   "metadata": {},
   "outputs": [],
   "source": []
  }
 ],
 "metadata": {
  "kernelspec": {
   "display_name": "Python 3 (ipykernel)",
   "language": "python",
   "name": "python3"
  },
  "language_info": {
   "codemirror_mode": {
    "name": "ipython",
    "version": 3
   },
   "file_extension": ".py",
   "mimetype": "text/x-python",
   "name": "python",
   "nbconvert_exporter": "python",
   "pygments_lexer": "ipython3",
   "version": "3.10.4"
  }
 },
 "nbformat": 4,
 "nbformat_minor": 2
}
