{
 "cells": [
  {
   "cell_type": "markdown",
   "metadata": {},
   "source": [
    "# Numpy - Basic Operations\n",
    "---"
   ]
  },
  {
   "cell_type": "code",
   "execution_count": 1,
   "metadata": {},
   "outputs": [],
   "source": [
    "import numpy as np"
   ]
  },
  {
   "cell_type": "markdown",
   "metadata": {},
   "source": [
    "## 1. Vectorization and Broadcasting"
   ]
  },
  {
   "cell_type": "markdown",
   "metadata": {},
   "source": [
    "### 1.1 NumPy operations on arrays with the **same shape**"
   ]
  },
  {
   "cell_type": "code",
   "execution_count": 2,
   "metadata": {},
   "outputs": [
    {
     "name": "stdout",
     "output_type": "stream",
     "text": [
      "x:\n",
      " [0 1 2 3 4] \n",
      "\n",
      "x.shape = (5,) \n",
      "\n",
      "y:\n",
      " [5 6 7 8 9] \n",
      "\n",
      "y.shape = (5,) \n",
      "\n",
      "x + y:\n",
      " [ 5  7  9 11 13] \n",
      "\n"
     ]
    }
   ],
   "source": [
    "x = np.arange(0, 5)\n",
    "print('x:\\n', x, '\\n')\n",
    "print('x.shape =', x.shape, '\\n')\n",
    "\n",
    "y = np.arange(5, 10)\n",
    "print('y:\\n', y, '\\n')\n",
    "print('y.shape =', y.shape, '\\n')\n",
    "\n",
    "# Do only vectorization\n",
    "print('x + y:\\n', x + y, '\\n')"
   ]
  },
  {
   "cell_type": "markdown",
   "metadata": {},
   "source": [
    "### 1.2 NumPy operations on arrays with the **diffrent shapes**"
   ]
  },
  {
   "cell_type": "code",
   "execution_count": 3,
   "metadata": {},
   "outputs": [
    {
     "name": "stdout",
     "output_type": "stream",
     "text": [
      "z:\n",
      " [10 11 12] \n",
      "\n",
      "z.shape = (3,) \n",
      "\n"
     ]
    },
    {
     "ename": "ValueError",
     "evalue": "operands could not be broadcast together with shapes (5,) (3,) ",
     "output_type": "error",
     "traceback": [
      "\u001b[1;31m---------------------------------------------------------------------------\u001b[0m",
      "\u001b[1;31mValueError\u001b[0m                                Traceback (most recent call last)",
      "Cell \u001b[1;32mIn[3], line 6\u001b[0m\n\u001b[0;32m      3\u001b[0m \u001b[39mprint\u001b[39m(\u001b[39m'\u001b[39m\u001b[39mz.shape =\u001b[39m\u001b[39m'\u001b[39m, z\u001b[39m.\u001b[39mshape, \u001b[39m'\u001b[39m\u001b[39m\\n\u001b[39;00m\u001b[39m'\u001b[39m)\n\u001b[0;32m      5\u001b[0m \u001b[39m# ValueError: operands could not be broadcast together with shapes (5,) (3,) \u001b[39;00m\n\u001b[1;32m----> 6\u001b[0m \u001b[39mprint\u001b[39m(\u001b[39m'\u001b[39m\u001b[39mx + z:\u001b[39m\u001b[39m\\n\u001b[39;00m\u001b[39m'\u001b[39m, x \u001b[39m+\u001b[39;49m z, \u001b[39m'\u001b[39m\u001b[39m\\n\u001b[39;00m\u001b[39m'\u001b[39m)\n",
      "\u001b[1;31mValueError\u001b[0m: operands could not be broadcast together with shapes (5,) (3,) "
     ]
    }
   ],
   "source": [
    "z = np.arange(10, 13)\n",
    "print('z:\\n', z, '\\n')\n",
    "print('z.shape =', z.shape, '\\n')\n",
    "\n",
    "# ValueError: operands could not be broadcast together with shapes (5,) (3,) \n",
    "print('x + z:\\n', x + z, '\\n')"
   ]
  },
  {
   "cell_type": "markdown",
   "metadata": {},
   "source": [
    "### 1.3 NumPy operations on arrays with **compatible dimensions**\n",
    "#### 1.3.1 with 1-D arrays"
   ]
  },
  {
   "cell_type": "code",
   "execution_count": null,
   "metadata": {},
   "outputs": [],
   "source": [
    "x = np.arange(0, 5)\n",
    "print('x:\\n', x, '\\n')\n",
    "print('x.shape =', x.shape, '\\n')\n",
    "\n",
    "y = np.array([10])\n",
    "print('y:\\n', y, '\\n')\n",
    "print('y.shape =', y.shape, '\\n')\n",
    "\n",
    "# Do vectorization and broadcasting\n",
    "print('x * y:\\n', x * y, '\\n')"
   ]
  },
  {
   "cell_type": "markdown",
   "metadata": {},
   "source": [
    "#### 1.3.2 with 2-D arrays"
   ]
  },
  {
   "cell_type": "code",
   "execution_count": null,
   "metadata": {},
   "outputs": [],
   "source": [
    "x = np.arange(0, 12).reshape(2, 6)\n",
    "print('x:\\n', x, '\\n')\n",
    "print('x.shape =', x.shape, '\\n')\n",
    "\n",
    "y = np.arange(0, 6).reshape(1, 6)\n",
    "print('y:\\n', y, '\\n')\n",
    "print('y.shape =', y.shape, '\\n')\n",
    "\n",
    "# Do vectorization and broadcasting\n",
    "print('x * y:\\n', x * y, '\\n')"
   ]
  },
  {
   "cell_type": "markdown",
   "metadata": {},
   "source": [
    "#### 1.3.3 with 3-D arrays"
   ]
  },
  {
   "cell_type": "code",
   "execution_count": null,
   "metadata": {},
   "outputs": [],
   "source": [
    "x = np.arange(0, 18).reshape(2, 3, 3)\n",
    "print('x:\\n', x, '\\n')\n",
    "print('x.shape =', x.shape, '\\n')\n",
    "\n",
    "y = np.arange(0, 6).reshape(2, 3, 1)\n",
    "print('y:\\n', y, '\\n')\n",
    "print('y.shape =', y.shape, '\\n')\n",
    "\n",
    "# Do vectorization and broadcasting\n",
    "print('x * y:\\n', x * y, '\\n')"
   ]
  },
  {
   "cell_type": "markdown",
   "metadata": {},
   "source": [
    "#### 1.3.4 two arrays with **different number of dimensions**"
   ]
  },
  {
   "cell_type": "code",
   "execution_count": null,
   "metadata": {},
   "outputs": [],
   "source": [
    "x = np.arange(0, 6).reshape(2, 3)\n",
    "print('x:\\n', x, '\\n')\n",
    "print('x.shape =', x.shape, '\\n')\n",
    "\n",
    "y = np.arange(0, 3)\n",
    "print('y:\\n', y, '\\n')\n",
    "print('y.shape =', y.shape, '\\n')\n",
    "\n",
    "# Do vectorization and broadcasting\n",
    "print('x * y:\\n', x * y, '\\n')"
   ]
  },
  {
   "cell_type": "code",
   "execution_count": null,
   "metadata": {},
   "outputs": [],
   "source": [
    "x = np.arange(0, 15).reshape(3, 5)\n",
    "print('x:\\n', x, '\\n')\n",
    "print('x.shape =', x.shape, '\\n')\n",
    "\n",
    "y = np.arange(0, 3)\n",
    "print('y:\\n', y, '\\n')\n",
    "print('y.shape =', y.shape, '\\n')\n",
    "\n",
    "# Do vectorization and broadcasting\n",
    "print('x * y:\\n', x * y, '\\n')"
   ]
  },
  {
   "cell_type": "markdown",
   "metadata": {},
   "source": [
    "## 2. A Look at Math Operations\n",
    "![Alt text](Dataset.png)"
   ]
  },
  {
   "cell_type": "code",
   "execution_count": null,
   "metadata": {},
   "outputs": [],
   "source": [
    "scores = np.array([\n",
    "  [70, 75, 80],\n",
    "  [80, 75, 70],\n",
    "  [80, 85, 90],\n",
    "  [90, 85, 80],\n",
    "  [70, 80, 90],\n",
    "])\n",
    "print(scores)"
   ]
  },
  {
   "cell_type": "code",
   "execution_count": null,
   "metadata": {},
   "outputs": [],
   "source": [
    "print(np.min(scores, axis = 0))\n",
    "print(np.min(scores, axis = 1))"
   ]
  },
  {
   "cell_type": "code",
   "execution_count": null,
   "metadata": {},
   "outputs": [],
   "source": [
    "print(np.max(scores, axis = 0))\n",
    "print(np.max(scores, axis = 1))"
   ]
  },
  {
   "cell_type": "code",
   "execution_count": null,
   "metadata": {},
   "outputs": [],
   "source": [
    "print(np.mean(scores, axis = 0))\n",
    "print(np.mean(scores, axis = 1))"
   ]
  },
  {
   "cell_type": "code",
   "execution_count": null,
   "metadata": {},
   "outputs": [],
   "source": [
    "print(np.sum(scores, axis = 1))"
   ]
  },
  {
   "cell_type": "code",
   "execution_count": null,
   "metadata": {},
   "outputs": [],
   "source": [
    "# Linear Regression\n",
    "x = np.arange(-5, 5)\n",
    "print('x: ', x)\n",
    "y = 2 * x + 10\n",
    "print('y: ',y)"
   ]
  },
  {
   "cell_type": "markdown",
   "metadata": {},
   "source": [
    "## 3. Sorting and Filtering/Searching"
   ]
  },
  {
   "cell_type": "markdown",
   "metadata": {},
   "source": [
    "- Use `numpy.sort()` -> Return a sorted copy of an array\n",
    "\n",
    "`numpy.sort(a, axis=- 1, kind=None, order=None)`"
   ]
  },
  {
   "cell_type": "code",
   "execution_count": null,
   "metadata": {},
   "outputs": [],
   "source": [
    "scores"
   ]
  },
  {
   "cell_type": "code",
   "execution_count": null,
   "metadata": {},
   "outputs": [],
   "source": [
    "# Ascending sort\n",
    "print(np.sort(scores, axis = 0))\n",
    "print('\\n')\n",
    "print(np.sort(scores, axis = 1))"
   ]
  },
  {
   "cell_type": "code",
   "execution_count": null,
   "metadata": {},
   "outputs": [],
   "source": [
    "# Descending sort\n",
    "print(-(np.sort(-scores, axis = 0)))\n",
    "print('\\n')\n",
    "print(-(np.sort(-scores, axis = 1)))"
   ]
  },
  {
   "cell_type": "markdown",
   "metadata": {},
   "source": [
    "- Sort by **structure field** - order by *field_name*"
   ]
  },
  {
   "cell_type": "code",
   "execution_count": null,
   "metadata": {},
   "outputs": [],
   "source": [
    "# Define customer structure dtype\n",
    "customer_dtype = np.dtype([('cid', np.str_, 10), ('name', str, 30), ('age', np.int8)])\n",
    "\n",
    "# Customer records\n",
    "customer_list = [('C100', 'David', 25), ('C200', 'Phil', 30), ('C300', 'Steve', 35)]\n",
    "\n",
    "# Create customer_dtype ndarray\n",
    "customers = np.array(customer_list, dtype = customer_dtype)\n",
    "\n",
    "print(customers)"
   ]
  },
  {
   "cell_type": "code",
   "execution_count": null,
   "metadata": {},
   "outputs": [],
   "source": [
    "# Ascending sort\n",
    "print(np.sort(customers, order = 'age'))"
   ]
  },
  {
   "cell_type": "code",
   "execution_count": null,
   "metadata": {},
   "outputs": [],
   "source": [
    "# Descending sort\n",
    "print(np.sort(customers, order = 'age')[::-1])"
   ]
  }
 ],
 "metadata": {
  "kernelspec": {
   "display_name": "Python 3.10.4 64-bit",
   "language": "python",
   "name": "python3"
  },
  "language_info": {
   "codemirror_mode": {
    "name": "ipython",
    "version": 3
   },
   "file_extension": ".py",
   "mimetype": "text/x-python",
   "name": "python",
   "nbconvert_exporter": "python",
   "pygments_lexer": "ipython3",
   "version": "3.10.4"
  },
  "orig_nbformat": 4,
  "vscode": {
   "interpreter": {
    "hash": "69afb16850fb080b0d2f0cee190e8848b3ff785e95ea7eabe4fe94a2423f9ba5"
   }
  }
 },
 "nbformat": 4,
 "nbformat_minor": 2
}
