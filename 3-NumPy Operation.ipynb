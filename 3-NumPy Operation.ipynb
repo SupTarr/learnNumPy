{
 "cells": [
  {
   "cell_type": "markdown",
   "metadata": {},
   "source": [
    "# Numpy - Basic Operations\n",
    "---"
   ]
  },
  {
   "cell_type": "code",
   "execution_count": 1,
   "metadata": {},
   "outputs": [],
   "source": [
    "import numpy as np"
   ]
  },
  {
   "cell_type": "markdown",
   "metadata": {},
   "source": [
    "## 1. Vectorization and Broadcasting"
   ]
  },
  {
   "cell_type": "markdown",
   "metadata": {},
   "source": [
    "### 1.1 NumPy operations on arrays with the **same shape**"
   ]
  },
  {
   "cell_type": "code",
   "execution_count": 2,
   "metadata": {},
   "outputs": [
    {
     "name": "stdout",
     "output_type": "stream",
     "text": [
      "x:\n",
      " [0 1 2 3 4] \n",
      "\n",
      "x.shape = (5,) \n",
      "\n",
      "y:\n",
      " [5 6 7 8 9] \n",
      "\n",
      "y.shape = (5,) \n",
      "\n",
      "x + y:\n",
      " [ 5  7  9 11 13] \n",
      "\n"
     ]
    }
   ],
   "source": [
    "x = np.arange(0, 5)\n",
    "print('x:\\n', x, '\\n')\n",
    "print('x.shape =', x.shape, '\\n')\n",
    "\n",
    "y = np.arange(5, 10)\n",
    "print('y:\\n', y, '\\n')\n",
    "print('y.shape =', y.shape, '\\n')\n",
    "\n",
    "# Do only vectorization\n",
    "print('x + y:\\n', x + y, '\\n')"
   ]
  },
  {
   "cell_type": "markdown",
   "metadata": {},
   "source": [
    "### 1.2 NumPy operations on arrays with the **diffrent shapes**"
   ]
  },
  {
   "cell_type": "code",
   "execution_count": 3,
   "metadata": {},
   "outputs": [
    {
     "name": "stderr",
     "output_type": "stream",
     "text": [
      "Traceback (most recent call last):\n",
      "  File \"<stdin>\", line 2, in <module>\n",
      "NameError: name 'np' is not defined\n"
     ]
    }
   ],
   "source": [
    "%%script python --no-raise-error\n",
    "\n",
    "z = np.arange(10, 13)\n",
    "print('z:\\n', z, '\\n')\n",
    "print('z.shape =', z.shape, '\\n')\n",
    "\n",
    "# ValueError: operands could not be broadcast together with shapes (5,) (3,) \n",
    "print('x + z:\\n', x + z, '\\n')"
   ]
  },
  {
   "cell_type": "markdown",
   "metadata": {},
   "source": [
    "### 1.3 NumPy operations on arrays with **compatible dimensions**\n",
    "#### 1.3.1 with 1-D arrays"
   ]
  },
  {
   "cell_type": "code",
   "execution_count": 4,
   "metadata": {},
   "outputs": [
    {
     "name": "stdout",
     "output_type": "stream",
     "text": [
      "x:\n",
      " [0 1 2 3 4] \n",
      "\n",
      "x.shape = (5,) \n",
      "\n",
      "y:\n",
      " [10] \n",
      "\n",
      "y.shape = (1,) \n",
      "\n",
      "x * y:\n",
      " [ 0 10 20 30 40] \n",
      "\n"
     ]
    }
   ],
   "source": [
    "x = np.arange(0, 5)\n",
    "print('x:\\n', x, '\\n')\n",
    "print('x.shape =', x.shape, '\\n')\n",
    "\n",
    "y = np.array([10])\n",
    "print('y:\\n', y, '\\n')\n",
    "print('y.shape =', y.shape, '\\n')\n",
    "\n",
    "# Do vectorization and broadcasting\n",
    "print('x * y:\\n', x * y, '\\n')"
   ]
  },
  {
   "cell_type": "markdown",
   "metadata": {},
   "source": [
    "#### 1.3.2 with 2-D arrays"
   ]
  },
  {
   "cell_type": "code",
   "execution_count": 5,
   "metadata": {},
   "outputs": [
    {
     "name": "stdout",
     "output_type": "stream",
     "text": [
      "x:\n",
      " [[ 0  1  2  3  4  5]\n",
      " [ 6  7  8  9 10 11]] \n",
      "\n",
      "x.shape = (2, 6) \n",
      "\n",
      "y:\n",
      " [[0 1 2 3 4 5]] \n",
      "\n",
      "y.shape = (1, 6) \n",
      "\n",
      "x * y:\n",
      " [[ 0  1  4  9 16 25]\n",
      " [ 0  7 16 27 40 55]] \n",
      "\n"
     ]
    }
   ],
   "source": [
    "x = np.arange(0, 12).reshape(2, 6)\n",
    "print('x:\\n', x, '\\n')\n",
    "print('x.shape =', x.shape, '\\n')\n",
    "\n",
    "y = np.arange(0, 6).reshape(1, 6)\n",
    "print('y:\\n', y, '\\n')\n",
    "print('y.shape =', y.shape, '\\n')\n",
    "\n",
    "# Do vectorization and broadcasting\n",
    "print('x * y:\\n', x * y, '\\n')"
   ]
  },
  {
   "cell_type": "markdown",
   "metadata": {},
   "source": [
    "#### 1.3.3 with 3-D arrays"
   ]
  },
  {
   "cell_type": "code",
   "execution_count": 6,
   "metadata": {},
   "outputs": [
    {
     "name": "stdout",
     "output_type": "stream",
     "text": [
      "x:\n",
      " [[[ 0  1  2]\n",
      "  [ 3  4  5]\n",
      "  [ 6  7  8]]\n",
      "\n",
      " [[ 9 10 11]\n",
      "  [12 13 14]\n",
      "  [15 16 17]]] \n",
      "\n",
      "x.shape = (2, 3, 3) \n",
      "\n",
      "y:\n",
      " [[[0]\n",
      "  [1]\n",
      "  [2]]\n",
      "\n",
      " [[3]\n",
      "  [4]\n",
      "  [5]]] \n",
      "\n",
      "y.shape = (2, 3, 1) \n",
      "\n",
      "x * y:\n",
      " [[[ 0  0  0]\n",
      "  [ 3  4  5]\n",
      "  [12 14 16]]\n",
      "\n",
      " [[27 30 33]\n",
      "  [48 52 56]\n",
      "  [75 80 85]]] \n",
      "\n"
     ]
    }
   ],
   "source": [
    "x = np.arange(0, 18).reshape(2, 3, 3)\n",
    "print('x:\\n', x, '\\n')\n",
    "print('x.shape =', x.shape, '\\n')\n",
    "\n",
    "y = np.arange(0, 6).reshape(2, 3, 1)\n",
    "print('y:\\n', y, '\\n')\n",
    "print('y.shape =', y.shape, '\\n')\n",
    "\n",
    "# Do vectorization and broadcasting\n",
    "print('x * y:\\n', x * y, '\\n')"
   ]
  },
  {
   "cell_type": "markdown",
   "metadata": {},
   "source": [
    "#### 1.3.4 two arrays with **different number of dimensions**"
   ]
  },
  {
   "cell_type": "code",
   "execution_count": 7,
   "metadata": {},
   "outputs": [
    {
     "name": "stdout",
     "output_type": "stream",
     "text": [
      "x:\n",
      " [[0 1 2]\n",
      " [3 4 5]] \n",
      "\n",
      "x.shape = (2, 3) \n",
      "\n",
      "y:\n",
      " [0 1 2] \n",
      "\n",
      "y.shape = (3,) \n",
      "\n",
      "x * y:\n",
      " [[ 0  1  4]\n",
      " [ 0  4 10]] \n",
      "\n"
     ]
    }
   ],
   "source": [
    "x = np.arange(0, 6).reshape(2, 3)\n",
    "print('x:\\n', x, '\\n')\n",
    "print('x.shape =', x.shape, '\\n')\n",
    "\n",
    "y = np.arange(0, 3)\n",
    "print('y:\\n', y, '\\n')\n",
    "print('y.shape =', y.shape, '\\n')\n",
    "\n",
    "# Do vectorization and broadcasting\n",
    "print('x * y:\\n', x * y, '\\n')"
   ]
  },
  {
   "cell_type": "code",
   "execution_count": 8,
   "metadata": {},
   "outputs": [
    {
     "name": "stdout",
     "output_type": "stream",
     "text": [
      "x:\n",
      " [[ 0  1  2  3  4]\n",
      " [ 5  6  7  8  9]\n",
      " [10 11 12 13 14]] \n",
      "\n",
      "x.shape = (3, 5) \n",
      "\n",
      "y:\n",
      " [[0]\n",
      " [1]\n",
      " [2]] \n",
      "\n",
      "y.shape = (3, 1) \n",
      "\n",
      "x * y:\n",
      " [[ 0  0  0  0  0]\n",
      " [ 5  6  7  8  9]\n",
      " [20 22 24 26 28]] \n",
      "\n"
     ]
    }
   ],
   "source": [
    "x = np.arange(0, 15).reshape(3, 5)\n",
    "print('x:\\n', x, '\\n')\n",
    "print('x.shape =', x.shape, '\\n')\n",
    "\n",
    "y = np.arange(0, 3).reshape(3, 1)\n",
    "print('y:\\n', y, '\\n')\n",
    "print('y.shape =', y.shape, '\\n')\n",
    "\n",
    "# Do vectorization and broadcasting\n",
    "print('x * y:\\n', x * y, '\\n')"
   ]
  },
  {
   "cell_type": "markdown",
   "metadata": {},
   "source": [
    "## 2. A Look at Math Operations\n",
    "![Alt text](pictures/Dataset.png)"
   ]
  },
  {
   "cell_type": "code",
   "execution_count": 9,
   "metadata": {},
   "outputs": [
    {
     "name": "stdout",
     "output_type": "stream",
     "text": [
      "[[70 75 80]\n",
      " [80 75 70]\n",
      " [80 85 90]\n",
      " [90 85 80]\n",
      " [70 80 90]]\n"
     ]
    }
   ],
   "source": [
    "scores = np.array([\n",
    "  [70, 75, 80],\n",
    "  [80, 75, 70],\n",
    "  [80, 85, 90],\n",
    "  [90, 85, 80],\n",
    "  [70, 80, 90],\n",
    "])\n",
    "print(scores)"
   ]
  },
  {
   "cell_type": "code",
   "execution_count": 10,
   "metadata": {},
   "outputs": [
    {
     "name": "stdout",
     "output_type": "stream",
     "text": [
      "[70 75 70]\n",
      "[70 70 80 80 70]\n"
     ]
    }
   ],
   "source": [
    "print(np.min(scores, axis = 0))\n",
    "print(np.min(scores, axis = 1))"
   ]
  },
  {
   "cell_type": "code",
   "execution_count": 11,
   "metadata": {},
   "outputs": [
    {
     "name": "stdout",
     "output_type": "stream",
     "text": [
      "[90 85 90]\n",
      "[80 80 90 90 90]\n"
     ]
    }
   ],
   "source": [
    "print(np.max(scores, axis = 0))\n",
    "print(np.max(scores, axis = 1))"
   ]
  },
  {
   "cell_type": "code",
   "execution_count": 12,
   "metadata": {},
   "outputs": [
    {
     "name": "stdout",
     "output_type": "stream",
     "text": [
      "[78. 80. 82.]\n",
      "[75. 75. 85. 85. 80.]\n"
     ]
    }
   ],
   "source": [
    "print(np.mean(scores, axis = 0))\n",
    "print(np.mean(scores, axis = 1))"
   ]
  },
  {
   "cell_type": "code",
   "execution_count": 13,
   "metadata": {},
   "outputs": [
    {
     "name": "stdout",
     "output_type": "stream",
     "text": [
      "[225 225 255 255 240]\n"
     ]
    }
   ],
   "source": [
    "print(np.sum(scores, axis = 1))"
   ]
  },
  {
   "cell_type": "code",
   "execution_count": 14,
   "metadata": {},
   "outputs": [
    {
     "name": "stdout",
     "output_type": "stream",
     "text": [
      "x:  [-5 -4 -3 -2 -1  0  1  2  3  4]\n",
      "y:  [ 0  2  4  6  8 10 12 14 16 18]\n"
     ]
    }
   ],
   "source": [
    "# Linear Regression\n",
    "x = np.arange(-5, 5)\n",
    "print('x: ', x)\n",
    "y = 2 * x + 10\n",
    "print('y: ',y)"
   ]
  },
  {
   "cell_type": "markdown",
   "metadata": {},
   "source": [
    "## 3. Sorting and Filtering/Searching"
   ]
  },
  {
   "cell_type": "markdown",
   "metadata": {},
   "source": [
    "- Use `numpy.sort()` -> Return a sorted copy of an array\n",
    "\n",
    "`numpy.sort(a, axis=- 1, kind=None, order=None)`"
   ]
  },
  {
   "cell_type": "code",
   "execution_count": 15,
   "metadata": {},
   "outputs": [
    {
     "data": {
      "text/plain": [
       "array([[70, 75, 80],\n",
       "       [80, 75, 70],\n",
       "       [80, 85, 90],\n",
       "       [90, 85, 80],\n",
       "       [70, 80, 90]])"
      ]
     },
     "execution_count": 15,
     "metadata": {},
     "output_type": "execute_result"
    }
   ],
   "source": [
    "scores"
   ]
  },
  {
   "cell_type": "code",
   "execution_count": 16,
   "metadata": {},
   "outputs": [
    {
     "name": "stdout",
     "output_type": "stream",
     "text": [
      "[[70 75 70]\n",
      " [70 75 80]\n",
      " [80 80 80]\n",
      " [80 85 90]\n",
      " [90 85 90]]\n",
      "\n",
      "\n",
      "[[70 75 80]\n",
      " [70 75 80]\n",
      " [80 85 90]\n",
      " [80 85 90]\n",
      " [70 80 90]]\n"
     ]
    }
   ],
   "source": [
    "# Ascending sort\n",
    "print(np.sort(scores, axis = 0))\n",
    "print('\\n')\n",
    "print(np.sort(scores, axis = 1))"
   ]
  },
  {
   "cell_type": "code",
   "execution_count": 17,
   "metadata": {},
   "outputs": [
    {
     "name": "stdout",
     "output_type": "stream",
     "text": [
      "[[90 85 90]\n",
      " [80 85 90]\n",
      " [80 80 80]\n",
      " [70 75 80]\n",
      " [70 75 70]]\n",
      "\n",
      "\n",
      "[[80 75 70]\n",
      " [80 75 70]\n",
      " [90 85 80]\n",
      " [90 85 80]\n",
      " [90 80 70]]\n"
     ]
    }
   ],
   "source": [
    "# Descending sort\n",
    "print(-(np.sort(-scores, axis = 0)))\n",
    "print('\\n')\n",
    "print(-(np.sort(-scores, axis = 1)))"
   ]
  },
  {
   "cell_type": "markdown",
   "metadata": {},
   "source": [
    "- Sort by **structure field** - order by *field_name*"
   ]
  },
  {
   "cell_type": "code",
   "execution_count": 18,
   "metadata": {},
   "outputs": [
    {
     "name": "stdout",
     "output_type": "stream",
     "text": [
      "[('C100', 'David', 25) ('C200', 'Phil', 30) ('C300', 'Steve', 35)]\n"
     ]
    }
   ],
   "source": [
    "# Define customer structure dtype\n",
    "customer_dtype = np.dtype([('cid', np.str_, 10), ('name', str, 30), ('age', np.int8)])\n",
    "\n",
    "# Customer records\n",
    "customer_list = [('C100', 'David', 25), ('C200', 'Phil', 30), ('C300', 'Steve', 35)]\n",
    "\n",
    "# Create customer_dtype ndarray\n",
    "customers = np.array(customer_list, dtype = customer_dtype)\n",
    "\n",
    "print(customers)"
   ]
  },
  {
   "cell_type": "code",
   "execution_count": 19,
   "metadata": {},
   "outputs": [
    {
     "name": "stdout",
     "output_type": "stream",
     "text": [
      "[('C100', 'David', 25) ('C200', 'Phil', 30) ('C300', 'Steve', 35)]\n"
     ]
    }
   ],
   "source": [
    "# Ascending sort\n",
    "print(np.sort(customers, order = 'age'))"
   ]
  },
  {
   "cell_type": "code",
   "execution_count": 20,
   "metadata": {},
   "outputs": [
    {
     "name": "stdout",
     "output_type": "stream",
     "text": [
      "[('C300', 'Steve', 35) ('C200', 'Phil', 30) ('C100', 'David', 25)]\n"
     ]
    }
   ],
   "source": [
    "# Descending sort\n",
    "print(np.sort(customers, order = 'age')[::-1])"
   ]
  }
 ],
 "metadata": {
  "kernelspec": {
   "display_name": "Python 3 (ipykernel)",
   "language": "python",
   "name": "python3"
  },
  "language_info": {
   "codemirror_mode": {
    "name": "ipython",
    "version": 3
   },
   "file_extension": ".py",
   "mimetype": "text/x-python",
   "name": "python",
   "nbconvert_exporter": "python",
   "pygments_lexer": "ipython3",
   "version": "3.10.4"
  },
  "vscode": {
   "interpreter": {
    "hash": "69afb16850fb080b0d2f0cee190e8848b3ff785e95ea7eabe4fe94a2423f9ba5"
   }
  }
 },
 "nbformat": 4,
 "nbformat_minor": 2
}
